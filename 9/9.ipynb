{
 "cells": [
  {
   "cell_type": "markdown",
   "metadata": {},
   "source": [
    "**Input**"
   ]
  },
  {
   "cell_type": "code",
   "execution_count": null,
   "metadata": {},
   "outputs": [],
   "source": [
    "day = 9\n",
    "\n",
    "import pyodide\n",
    "def read(name):\n",
    "  return pyodide.open_url('https://raw.githubusercontent.com/joaomoreno/aoc2021/main/%d/%s' % (day, name)).getvalue()\n",
    "\n",
    "sample = read('sample')\n",
    "input = read('input')"
   ]
  },
  {
   "cell_type": "markdown",
   "metadata": {},
   "source": [
    "**Parsing**"
   ]
  },
  {
   "cell_type": "code",
   "execution_count": null,
   "metadata": {},
   "outputs": [],
   "source": [
    "import numpy as np\n",
    "\n",
    "def parse(input):\n",
    "  lines = input.splitlines(False)\n",
    "  return [[int(c) for c in line] for line in lines]"
   ]
  },
  {
   "cell_type": "markdown",
   "metadata": {},
   "source": [
    "**Part One**"
   ]
  },
  {
   "cell_type": "code",
   "execution_count": 4,
   "metadata": {},
   "outputs": [
    {
     "data": {
      "text/plain": [
       "535"
      ]
     },
     "execution_count": 4,
     "metadata": {},
     "output_type": "execute_result"
    }
   ],
   "source": [
    "def neighbors(input, x, y):\n",
    "  if x > 0: yield x - 1, y\n",
    "  if x < len(input[0]) - 1: yield x + 1, y\n",
    "  if y > 0: yield x, y - 1\n",
    "  if y < len(input) - 1: yield x, y + 1\n",
    "\n",
    "def low_points(input):\n",
    "  for y in range(len(input)):\n",
    "    for x in range(len(input[0])):\n",
    "      if all(map(lambda p: input[p[1]][p[0]] > input[y][x], neighbors(input, x, y))):\n",
    "        yield x, y\n",
    "\n",
    "def run(input):\n",
    "  return sum(1 + input[y][x] for x,y in low_points(input))\n",
    "\n",
    "run(parse(input))"
   ]
  },
  {
   "cell_type": "markdown",
   "metadata": {},
   "source": [
    "**Part Two**"
   ]
  },
  {
   "cell_type": "code",
   "execution_count": 6,
   "metadata": {},
   "outputs": [
    {
     "data": {
      "text/plain": [
       "1122700"
      ]
     },
     "execution_count": 6,
     "metadata": {},
     "output_type": "execute_result"
    }
   ],
   "source": [
    "from itertools import product\n",
    "\n",
    "def neighbors(input, visited, x, y):\n",
    "  visited.add((x, y))\n",
    "  if x > 0: yield x - 1, y\n",
    "  if x < len(input[0]) - 1: yield x + 1, y\n",
    "  if y > 0: yield x, y - 1\n",
    "  if y < len(input) - 1: yield x, y + 1\n",
    "\n",
    "def basin_size(input, visited, x, y):\n",
    "  return 1 + sum(basin_size(input, visited, xx, yy) for xx, yy in neighbors(input, visited, x, y) if (xx, yy) not in visited and input[yy][xx] != 9)\n",
    "\n",
    "def run(input):\n",
    "  visited = set()\n",
    "  coords = ((x, y) for x, y in product(range(len(input[0])), range(len(input))))\n",
    "  basins = (basin_size(input, visited, x, y) for x, y in coords if (x, y) not in visited and input[y][x] != 9)\n",
    "  basins = sorted(basins, reverse=True)\n",
    "  return basins[0] * basins[1] * basins[2]\n",
    "\n",
    "run(parse(input))"
   ]
  }
 ],
 "metadata": {
  "language_info": {
   "name": "python"
  },
  "orig_nbformat": 4
 },
 "nbformat": 4,
 "nbformat_minor": 2
}
