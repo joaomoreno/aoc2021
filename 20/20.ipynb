{
 "cells": [
  {
   "cell_type": "markdown",
   "metadata": {},
   "source": [
    "**Input**"
   ]
  },
  {
   "cell_type": "code",
   "execution_count": null,
   "metadata": {},
   "outputs": [],
   "source": [
    "day = 20\n",
    "\n",
    "import pyodide\n",
    "def read(name):\n",
    "  return pyodide.open_url('https://raw.githubusercontent.com/joaomoreno/aoc2021/main/%d/%s' % (day, name)).getvalue()\n",
    "\n",
    "sample = read('sample2')\n",
    "input = read('input')"
   ]
  },
  {
   "cell_type": "markdown",
   "metadata": {},
   "source": [
    "**Parsing**"
   ]
  },
  {
   "cell_type": "code",
   "execution_count": null,
   "metadata": {},
   "outputs": [],
   "source": [
    "import numpy as np\n",
    "\n",
    "def parse(input):\n",
    "  lines = input.splitlines(False)\n",
    "  algo = [1 if c == '#' else 0 for c in lines[0]]\n",
    "  img = np.array([[1 if c == '#' else 0 for c in line] for line in lines[2:]])\n",
    "  return algo, img"
   ]
  },
  {
   "cell_type": "markdown",
   "metadata": {},
   "source": [
    "**Part One**"
   ]
  },
  {
   "cell_type": "code",
   "execution_count": 141,
   "metadata": {},
   "outputs": [
    {
     "name": "stdout",
     "output_type": "stream",
     "text": [
      "0\n",
      "1\n"
     ]
    },
    {
     "data": {
      "text/plain": [
       "5846"
      ]
     },
     "execution_count": 141,
     "metadata": {},
     "output_type": "execute_result"
    }
   ],
   "source": [
    "def enhance(input, steps):\n",
    "  margin = steps + 1\n",
    "  img = np.zeros(tuple(2 * margin + d for d in input[1].shape), dtype=int)\n",
    "  img[margin:-margin,margin:-margin] = input[1]\n",
    "  algo = input[0]\n",
    "  \n",
    "  for step in range(steps):\n",
    "    print(step)\n",
    "    next_img = np.zeros(img.shape, dtype=int)\n",
    "    crop = next_img[1:-1,1:-1]\n",
    "    \n",
    "    with np.nditer(crop, op_flags=['readwrite'], flags=['multi_index']) as it:\n",
    "      for e in it:\n",
    "        y, x = it.multi_index\n",
    "        v = img[y:y+3,x:x+3].reshape(9)\n",
    "        b = np.packbits(v)\n",
    "        r = (b[0] << 1) + (b[1] >> 7)\n",
    "        e[...] = algo[r]\n",
    "\n",
    "    if algo[0] == 1 and img[0,0] == 0:\n",
    "      next_img[0,:] = next_img[-1,:] = next_img[:,0] = next_img[:,-1] = 1\n",
    "    elif algo[511] == 0 and img[0,0] == 1:\n",
    "      next_img[0,:] = next_img[-1,:] = next_img[:,0] = next_img[:,-1] = 0\n",
    "    \n",
    "    img = next_img\n",
    "  \n",
    "  return np.sum(img)\n",
    "\n",
    "def run(input):\n",
    "  return enhance(input, 2)\n",
    "\n",
    "run(parse(input))"
   ]
  },
  {
   "cell_type": "markdown",
   "metadata": {},
   "source": [
    "**Part Two**"
   ]
  },
  {
   "cell_type": "code",
   "execution_count": 143,
   "metadata": {},
   "outputs": [
    {
     "name": "stdout",
     "output_type": "stream",
     "text": [
      "0\n",
      "1\n",
      "2\n",
      "3\n",
      "4\n",
      "5\n",
      "6\n",
      "7\n",
      "8\n",
      "9\n",
      "10\n",
      "11\n",
      "12\n",
      "13\n",
      "14\n",
      "15\n",
      "16\n",
      "17\n",
      "18\n",
      "19\n",
      "20\n",
      "21\n",
      "22\n",
      "23\n",
      "24\n",
      "25\n",
      "26\n",
      "27\n",
      "28\n",
      "29\n",
      "30\n",
      "31\n",
      "32\n",
      "33\n",
      "34\n",
      "35\n",
      "36\n",
      "37\n",
      "38\n",
      "39\n",
      "40\n",
      "41\n",
      "42\n",
      "43\n",
      "44\n",
      "45\n",
      "46\n",
      "47\n",
      "48\n",
      "49\n"
     ]
    },
    {
     "data": {
      "text/plain": [
       "21149"
      ]
     },
     "execution_count": 143,
     "metadata": {},
     "output_type": "execute_result"
    }
   ],
   "source": [
    "def run(input):\n",
    "  return enhance(input, 50)\n",
    "\n",
    "run(parse(input))"
   ]
  }
 ],
 "metadata": {
  "language_info": {
   "name": "python"
  },
  "orig_nbformat": 4
 },
 "nbformat": 4,
 "nbformat_minor": 2
}
