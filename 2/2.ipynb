{
 "cells": [
  {
   "cell_type": "markdown",
   "metadata": {},
   "source": [
    "**Input**"
   ]
  },
  {
   "cell_type": "code",
   "execution_count": null,
   "metadata": {},
   "outputs": [],
   "source": [
    "day = 2\n",
    "\n",
    "import pyodide\n",
    "def read(name):\n",
    "  return pyodide.open_url('https://raw.githubusercontent.com/joaomoreno/aoc2021/main/%d/%s' % (day, name)).getvalue()\n",
    "\n",
    "sample = read('sample')\n",
    "input = read('input')"
   ]
  },
  {
   "cell_type": "markdown",
   "metadata": {},
   "source": [
    "**Parsing**"
   ]
  },
  {
   "cell_type": "code",
   "execution_count": null,
   "metadata": {},
   "outputs": [],
   "source": [
    "import re\n",
    "rx = re.compile(r'(\\w+) (\\d+)')\n",
    "\n",
    "def parse(input):\n",
    "  result = []\n",
    "  for line in input.splitlines(False):\n",
    "    (c, a) = rx.match(line).groups()\n",
    "    result.append((c, int(a)))\n",
    "  return result"
   ]
  },
  {
   "cell_type": "markdown",
   "metadata": {},
   "source": [
    "**Part One**"
   ]
  },
  {
   "cell_type": "code",
   "execution_count": 133,
   "metadata": {},
   "outputs": [
    {
     "data": {
      "text/plain": [
       "1924923"
      ]
     },
     "execution_count": 133,
     "metadata": {},
     "output_type": "execute_result"
    }
   ],
   "source": [
    "def run(input):\n",
    "  x = 0\n",
    "  y = 0\n",
    "\n",
    "  for (command, amount) in input:\n",
    "    if command == 'forward':\n",
    "      x += amount\n",
    "    elif command == 'down':\n",
    "      y += amount\n",
    "    elif command == 'up':\n",
    "      y -= amount\n",
    "  \n",
    "  return x * y\n",
    "\n",
    "run(parse(input))"
   ]
  },
  {
   "cell_type": "markdown",
   "metadata": {},
   "source": [
    "**Part Two**"
   ]
  },
  {
   "cell_type": "code",
   "execution_count": 134,
   "metadata": {},
   "outputs": [
    {
     "data": {
      "text/plain": [
       "1982495697"
      ]
     },
     "execution_count": 134,
     "metadata": {},
     "output_type": "execute_result"
    }
   ],
   "source": [
    "def run(input):\n",
    "  x = 0\n",
    "  y = 0\n",
    "  aim = 0\n",
    "\n",
    "  for (command, amount) in input:\n",
    "    if command == 'forward':\n",
    "      x += amount\n",
    "      y += aim * amount\n",
    "    elif command == 'down':\n",
    "      aim += amount\n",
    "    elif command == 'up':\n",
    "      aim -= amount\n",
    "  \n",
    "  return x * y\n",
    "\n",
    "run(parse(input))"
   ]
  }
 ],
 "metadata": {
  "language_info": {
   "name": "python"
  },
  "orig_nbformat": 4
 },
 "nbformat": 4,
 "nbformat_minor": 2
}
