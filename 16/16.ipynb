{
 "cells": [
  {
   "cell_type": "markdown",
   "metadata": {},
   "source": [
    "**Input**"
   ]
  },
  {
   "cell_type": "code",
   "execution_count": null,
   "metadata": {},
   "outputs": [],
   "source": [
    "day = 16\n",
    "\n",
    "import pyodide\n",
    "def read(name):\n",
    "  return pyodide.open_url('https://raw.githubusercontent.com/joaomoreno/aoc2021/main/%d/%s' % (day, name)).getvalue()\n",
    "\n",
    "sample = read('sample')\n",
    "input = read('input')"
   ]
  },
  {
   "cell_type": "markdown",
   "metadata": {},
   "source": [
    "**Parsing**"
   ]
  },
  {
   "cell_type": "code",
   "execution_count": null,
   "metadata": {},
   "outputs": [],
   "source": [
    "import micropip\n",
    "await micropip.install('bitstring')\n",
    "from bitstring import BitStream\n",
    "\n",
    "def parse(input):\n",
    "  return [BitStream(bytes.fromhex(line)) for line in input.splitlines(False)]\n"
   ]
  },
  {
   "cell_type": "markdown",
   "metadata": {},
   "source": [
    "**Part One**"
   ]
  },
  {
   "cell_type": "code",
   "execution_count": 219,
   "metadata": {},
   "outputs": [
    {
     "data": {
      "text/plain": [
       "[947]"
      ]
     },
     "execution_count": 219,
     "metadata": {},
     "output_type": "execute_result"
    }
   ],
   "source": [
    "def read_value(input):\n",
    "  value = 0\n",
    "\n",
    "  while True:\n",
    "    leading = input.read('bool')\n",
    "    value = (value << 4) | input.read('uint:4')\n",
    "    if not leading:\n",
    "      return value\n",
    "\n",
    "def read_operator_bit_length(input):\n",
    "  length = input.read('uint:15')\n",
    "  start = input.pos\n",
    "  result = []\n",
    "\n",
    "  while input.pos - start < length:\n",
    "    result.append(read_packet(input))\n",
    "  \n",
    "  return result\n",
    "\n",
    "def read_operator_packet_length(input):\n",
    "  packets = input.read('uint:11')\n",
    "\n",
    "  return [read_packet(input) for _ in range(packets)]\n",
    "\n",
    "def read_packet(input):\n",
    "  version = input.read('uint:3')\n",
    "  type_id = input.read('uint:3')\n",
    "\n",
    "  if type_id == 4:\n",
    "    value = read_value(input)\n",
    "  else:\n",
    "    if input.read('bool'):\n",
    "      value = read_operator_packet_length(input)\n",
    "    else:\n",
    "      value = read_operator_bit_length(input)\n",
    "  \n",
    "  return (version, type_id, value)\n",
    "\n",
    "def sum_versions(packet):\n",
    "  queue = [packet]\n",
    "  result = 0\n",
    "\n",
    "  while len(queue) > 0:\n",
    "    version, type_id, value = queue.pop()\n",
    "    result += version\n",
    "\n",
    "    if isinstance(value, list):\n",
    "      queue.extend(value)\n",
    "\n",
    "  return result\n",
    "\n",
    "def run(input):\n",
    "  return [sum_versions(read_packet(line)) for line in input]\n",
    "\n",
    "run(parse(input))"
   ]
  },
  {
   "cell_type": "markdown",
   "metadata": {},
   "source": [
    "**Part Two**"
   ]
  },
  {
   "cell_type": "code",
   "execution_count": 218,
   "metadata": {},
   "outputs": [
    {
     "data": {
      "text/plain": [
       "[660797830937]"
      ]
     },
     "execution_count": 218,
     "metadata": {},
     "output_type": "execute_result"
    }
   ],
   "source": [
    "from operator import mul\n",
    "from functools import reduce\n",
    "\n",
    "def evaluate(packet):\n",
    "  _, type_id, value = packet\n",
    "\n",
    "  if type_id == 0:\n",
    "    return sum(map(evaluate, value))\n",
    "  elif type_id == 1:\n",
    "    return reduce(mul, map(evaluate, value), 1)\n",
    "  elif type_id == 2:\n",
    "    return min(map(evaluate, value))\n",
    "  elif type_id == 3:\n",
    "    return max(map(evaluate, value))\n",
    "  elif type_id == 4:\n",
    "    return value\n",
    "  elif type_id == 5:\n",
    "    return 1 if evaluate(value[0]) > evaluate(value[1]) else 0\n",
    "  elif type_id == 6:\n",
    "    return 1 if evaluate(value[0]) < evaluate(value[1]) else 0\n",
    "  elif type_id == 7:\n",
    "    return 1 if evaluate(value[0]) == evaluate(value[1]) else 0\n",
    "\n",
    "def run(input):\n",
    "  return [evaluate(read_packet(line)) for line in input]\n",
    "  \n",
    "run(parse(input))"
   ]
  }
 ],
 "metadata": {
  "language_info": {
   "name": "python"
  },
  "orig_nbformat": 4
 },
 "nbformat": 4,
 "nbformat_minor": 2
}
