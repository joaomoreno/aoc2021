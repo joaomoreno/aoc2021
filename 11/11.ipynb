{
 "cells": [
  {
   "cell_type": "markdown",
   "metadata": {},
   "source": [
    "**Input**"
   ]
  },
  {
   "cell_type": "code",
   "execution_count": null,
   "metadata": {},
   "outputs": [],
   "source": [
    "day = 11\n",
    "\n",
    "import pyodide\n",
    "def read(name):\n",
    "  return pyodide.open_url('https://raw.githubusercontent.com/joaomoreno/aoc2021/main/%d/%s' % (day, name)).getvalue()\n",
    "\n",
    "sample = read('sample')\n",
    "input = read('input')"
   ]
  },
  {
   "cell_type": "markdown",
   "metadata": {},
   "source": [
    "**Parsing**"
   ]
  },
  {
   "cell_type": "code",
   "execution_count": null,
   "metadata": {},
   "outputs": [],
   "source": [
    "import numpy as np\n",
    "\n",
    "def parse(input):\n",
    "  return [[int(c) for c in line] for line in input.splitlines(False)]"
   ]
  },
  {
   "cell_type": "markdown",
   "metadata": {},
   "source": [
    "**Part One**"
   ]
  },
  {
   "cell_type": "code",
   "execution_count": null,
   "metadata": {},
   "outputs": [],
   "source": [
    "def neighbors(x, y):\n",
    "  for yy in range(max(0, y - 1), min(10, y + 2)):\n",
    "    for xx in range(max(0, x - 1), min(10, x + 2)):\n",
    "      if (x, y) != (xx, yy):\n",
    "        yield xx, yy"
   ]
  },
  {
   "cell_type": "code",
   "execution_count": 34,
   "metadata": {},
   "outputs": [
    {
     "data": {
      "text/plain": [
       "1729"
      ]
     },
     "execution_count": 34,
     "metadata": {},
     "output_type": "execute_result"
    }
   ],
   "source": [
    "def run(input):\n",
    "  result = 0\n",
    "\n",
    "  for step in range(100):\n",
    "    flashing = []\n",
    "\n",
    "    for y in range(10):\n",
    "      for x in range(10):\n",
    "        input[y][x] += 1\n",
    "\n",
    "        if input[y][x] == 10:\n",
    "          flashing.append((x, y))\n",
    "    \n",
    "    flashed = set()\n",
    "\n",
    "    while len(flashing) > 0:\n",
    "      x, y = flashing.pop()\n",
    "\n",
    "      if (x, y) not in flashed:\n",
    "        flashed.add((x, y))\n",
    "\n",
    "        for xx, yy in neighbors(x, y):\n",
    "          input[yy][xx] += 1\n",
    "\n",
    "          if input[yy][xx] >= 10:\n",
    "            flashing.append((xx, yy))\n",
    "\n",
    "    result += len(flashed)\n",
    "\n",
    "    for x, y in flashed:\n",
    "      input[y][x] = 0\n",
    "  \n",
    "  return result\n",
    "\n",
    "run(parse(input))"
   ]
  },
  {
   "cell_type": "markdown",
   "metadata": {},
   "source": [
    "**Part Two**"
   ]
  },
  {
   "cell_type": "code",
   "execution_count": 35,
   "metadata": {},
   "outputs": [
    {
     "data": {
      "text/plain": [
       "237"
      ]
     },
     "execution_count": 35,
     "metadata": {},
     "output_type": "execute_result"
    }
   ],
   "source": [
    "def run(input):\n",
    "  step = 1\n",
    "\n",
    "  while True:\n",
    "    flashing = []\n",
    "\n",
    "    for y in range(10):\n",
    "      for x in range(10):\n",
    "        input[y][x] += 1\n",
    "\n",
    "        if input[y][x] == 10:\n",
    "          flashing.append((x, y))\n",
    "    \n",
    "    flashed = set()\n",
    "\n",
    "    while len(flashing) > 0:\n",
    "      x, y = flashing.pop()\n",
    "\n",
    "      if (x, y) not in flashed:\n",
    "        flashed.add((x, y))\n",
    "\n",
    "        for xx, yy in neighbors(x, y):\n",
    "          input[yy][xx] += 1\n",
    "\n",
    "          if input[yy][xx] >= 10:\n",
    "            flashing.append((xx, yy))\n",
    "\n",
    "    if len(flashed) == 100:\n",
    "      return step\n",
    "\n",
    "    for x, y in flashed:\n",
    "      input[y][x] = 0\n",
    "    \n",
    "    step += 1\n",
    "\n",
    "run(parse(input))"
   ]
  }
 ],
 "metadata": {
  "language_info": {
   "name": "python"
  },
  "orig_nbformat": 4
 },
 "nbformat": 4,
 "nbformat_minor": 2
}
