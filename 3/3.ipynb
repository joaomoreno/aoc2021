{
 "cells": [
  {
   "cell_type": "markdown",
   "metadata": {},
   "source": [
    "**Input**"
   ]
  },
  {
   "cell_type": "code",
   "execution_count": null,
   "metadata": {},
   "outputs": [],
   "source": [
    "day = 3\n",
    "\n",
    "import pyodide\n",
    "def read(name):\n",
    "  return pyodide.open_url('https://raw.githubusercontent.com/joaomoreno/aoc2021/main/%d/%s' % (day, name)).getvalue()\n",
    "\n",
    "sample = read('sample')\n",
    "input = read('input')"
   ]
  },
  {
   "cell_type": "markdown",
   "metadata": {},
   "source": [
    "**Parsing**"
   ]
  },
  {
   "cell_type": "code",
   "execution_count": 136,
   "metadata": {},
   "outputs": [
    {
     "data": {
      "text/plain": [
       "(12, 5)"
      ]
     },
     "execution_count": 136,
     "metadata": {},
     "output_type": "execute_result"
    }
   ],
   "source": [
    "import numpy as np\n",
    "\n",
    "def parse(input):\n",
    "  return np.array([[int(c) for c in line] for line in input.splitlines(False)])"
   ]
  },
  {
   "cell_type": "markdown",
   "metadata": {},
   "source": [
    "**Part One**"
   ]
  },
  {
   "cell_type": "code",
   "execution_count": 137,
   "metadata": {},
   "outputs": [
    {
     "data": {
      "text/plain": [
       "4001724"
      ]
     },
     "execution_count": 137,
     "metadata": {},
     "output_type": "execute_result"
    }
   ],
   "source": [
    "def run(input):\n",
    "  bits = input.shape[1]\n",
    "  gamma = int(''.join([str(int(round(np.mean(input[:,col])))) for col in range(bits)]), 2)\n",
    "  mask = int(''.join(['1' for _ in range(bits)]), 2)\n",
    "  epsilon = (~gamma & mask)\n",
    "  return gamma * epsilon\n",
    "\n",
    "run(parse(input))"
   ]
  },
  {
   "cell_type": "markdown",
   "metadata": {},
   "source": [
    "**Part Two**"
   ]
  },
  {
   "cell_type": "code",
   "execution_count": 138,
   "metadata": {},
   "outputs": [
    {
     "data": {
      "text/plain": [
       "587895"
      ]
     },
     "execution_count": 138,
     "metadata": {},
     "output_type": "execute_result"
    }
   ],
   "source": [
    "def run(input):\n",
    "  nums = input.shape[0]\n",
    "  bits = input.shape[1]\n",
    "\n",
    "  oxygen = None\n",
    "  co2 = None\n",
    "  oxygen_candidates = [i for i in range(nums)]\n",
    "  co2_candidates = [i for i in range(nums)]\n",
    "\n",
    "  for bit in range(bits):\n",
    "    if oxygen is None:\n",
    "      avg = np.mean(input[:,bit][oxygen_candidates])\n",
    "      oxygen_candidates = list(filter(lambda i : input[i, bit] == (1 if avg == 0.5 else int(round(avg))), oxygen_candidates))\n",
    "\n",
    "      if len(oxygen_candidates) == 1:\n",
    "        oxygen = oxygen_candidates[0]\n",
    "    \n",
    "    if co2 is None:\n",
    "      avg = np.mean(input[:,bit][co2_candidates])\n",
    "      co2_candidates = list(filter(lambda i : input[i, bit] == (0 if avg == 0.5 else int(round(1 - avg))), co2_candidates))\n",
    "\n",
    "      if len(co2_candidates) == 1:\n",
    "        co2 = co2_candidates[0]\n",
    "    \n",
    "    if oxygen is not None and co2 is not None:\n",
    "      break\n",
    "\n",
    "  oxygen = int(''.join(input[oxygen].astype(str)), 2)\n",
    "  co2 = int(''.join(input[co2].astype(str)), 2)\n",
    "\n",
    "  return oxygen * co2\n",
    "\n",
    "run(parse(input))"
   ]
  }
 ],
 "metadata": {
  "language_info": {
   "name": "python"
  },
  "orig_nbformat": 4
 },
 "nbformat": 4,
 "nbformat_minor": 2
}
