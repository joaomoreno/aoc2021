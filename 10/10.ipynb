{
 "cells": [
  {
   "cell_type": "markdown",
   "metadata": {},
   "source": [
    "**Input**"
   ]
  },
  {
   "cell_type": "code",
   "execution_count": null,
   "metadata": {},
   "outputs": [],
   "source": [
    "day = 10\n",
    "\n",
    "import pyodide\n",
    "def read(name):\n",
    "  return pyodide.open_url('https://raw.githubusercontent.com/joaomoreno/aoc2021/main/%d/%s' % (day, name)).getvalue()\n",
    "\n",
    "sample = read('sample')\n",
    "input = read('input')"
   ]
  },
  {
   "cell_type": "markdown",
   "metadata": {},
   "source": [
    "**Parsing**"
   ]
  },
  {
   "cell_type": "code",
   "execution_count": null,
   "metadata": {},
   "outputs": [],
   "source": [
    "import numpy as np\n",
    "\n",
    "def parse(input):\n",
    "  return input.splitlines(False)"
   ]
  },
  {
   "cell_type": "markdown",
   "metadata": {},
   "source": [
    "**Part One**"
   ]
  },
  {
   "cell_type": "code",
   "execution_count": 16,
   "metadata": {},
   "outputs": [
    {
     "data": {
      "text/plain": [
       "321237"
      ]
     },
     "execution_count": 16,
     "metadata": {},
     "output_type": "execute_result"
    }
   ],
   "source": [
    "open = ('(', '[', '{', '<')\n",
    "close = (')', ']', '}', '>')\n",
    "points = (3, 57, 1197, 25137)\n",
    "\n",
    "def score(line):\n",
    "  stack = []\n",
    "\n",
    "  for c in line:\n",
    "    if c in open:\n",
    "      stack.append(c)\n",
    "    elif close.index(c) == open.index(stack[-1]):\n",
    "      stack.pop()\n",
    "    else:\n",
    "      return points[close.index(c)]\n",
    "  \n",
    "  return 0\n",
    "\n",
    "def run(input):\n",
    "  return sum(score(line) for line in input)\n",
    "\n",
    "run(parse(input))"
   ]
  },
  {
   "cell_type": "markdown",
   "metadata": {},
   "source": [
    "**Part Two**"
   ]
  },
  {
   "cell_type": "code",
   "execution_count": 24,
   "metadata": {},
   "outputs": [
    {
     "data": {
      "text/plain": [
       "2360030859"
      ]
     },
     "execution_count": 24,
     "metadata": {},
     "output_type": "execute_result"
    }
   ],
   "source": [
    "open = ('(', '[', '{', '<')\n",
    "close = (')', ']', '}', '>')\n",
    "points = (1, 2, 3, 4)\n",
    "\n",
    "def score(line):\n",
    "  stack = []\n",
    "\n",
    "  for c in line:\n",
    "    if c in open:\n",
    "      stack.append(c)\n",
    "    elif close.index(c) == open.index(stack[-1]):\n",
    "      stack.pop()\n",
    "    else:\n",
    "      return None\n",
    "\n",
    "  score = 0\n",
    "  for c in reversed(stack):\n",
    "    score = score * 5 + points[open.index(c)]\n",
    "  return score\n",
    "\n",
    "def run(input):\n",
    "  scores = (score(line) for line in input)\n",
    "  valid = sorted(e for e in scores if e is not None)\n",
    "  return valid[round(len(valid) / 2)]\n",
    "\n",
    "run(parse(input))"
   ]
  }
 ],
 "metadata": {
  "language_info": {
   "name": "python"
  },
  "orig_nbformat": 4
 },
 "nbformat": 4,
 "nbformat_minor": 2
}
