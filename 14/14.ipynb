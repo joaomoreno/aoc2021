{
 "cells": [
  {
   "cell_type": "markdown",
   "metadata": {},
   "source": [
    "**Input**"
   ]
  },
  {
   "cell_type": "code",
   "execution_count": null,
   "metadata": {},
   "outputs": [],
   "source": [
    "day = 14\n",
    "\n",
    "import pyodide\n",
    "def read(name):\n",
    "  return pyodide.open_url('https://raw.githubusercontent.com/joaomoreno/aoc2021/main/%d/%s' % (day, name)).getvalue()\n",
    "\n",
    "sample = read('sample')\n",
    "input = read('input')"
   ]
  },
  {
   "cell_type": "markdown",
   "metadata": {},
   "source": [
    "**Parsing**"
   ]
  },
  {
   "cell_type": "code",
   "execution_count": null,
   "metadata": {},
   "outputs": [],
   "source": [
    "import re\n",
    "rx = re.compile(r'^(\\w)(\\w) -> (\\w)$')\n",
    "\n",
    "def parse(input):\n",
    "  template, _, *rules = input.splitlines(False)\n",
    "  rules = dict(((rule[0], rule[1]), rule[2]) for rule in (rx.match(rule).groups() for rule in rules))\n",
    "  return template, rules"
   ]
  },
  {
   "cell_type": "markdown",
   "metadata": {},
   "source": [
    "**Part One**"
   ]
  },
  {
   "cell_type": "code",
   "execution_count": 24,
   "metadata": {},
   "outputs": [
    {
     "data": {
      "text/plain": [
       "2447"
      ]
     },
     "execution_count": 24,
     "metadata": {},
     "output_type": "execute_result"
    }
   ],
   "source": [
    "def pairwise(polymer):\n",
    "  i = iter(polymer)\n",
    "  prev = next(i)\n",
    "  for item in i:\n",
    "    yield prev, item\n",
    "    prev = item\n",
    "\n",
    "def expand(rules, polymer):\n",
    "  for pair in pairwise(polymer):\n",
    "    yield pair[0]\n",
    "    if pair in rules:\n",
    "      yield rules[pair]\n",
    "  yield pair[1]\n",
    "\n",
    "def run(input):\n",
    "  polymer, rules = input\n",
    "\n",
    "  for i in range(10):\n",
    "    polymer = expand(rules, polymer)\n",
    "\n",
    "  stats = dict()\n",
    "  \n",
    "  for element in polymer:\n",
    "    if element in stats:\n",
    "      stats[element] += 1\n",
    "    else:\n",
    "      stats[element] = 1\n",
    "  \n",
    "  values = stats.values()\n",
    "  return max(values) - min(values)\n",
    "\n",
    "run(parse(input))"
   ]
  },
  {
   "cell_type": "markdown",
   "metadata": {},
   "source": [
    "**Part Two**"
   ]
  },
  {
   "cell_type": "code",
   "execution_count": 48,
   "metadata": {},
   "outputs": [
    {
     "data": {
      "text/plain": [
       "3018019237563"
      ]
     },
     "execution_count": 48,
     "metadata": {},
     "output_type": "execute_result"
    }
   ],
   "source": [
    "from collections import Counter\n",
    "\n",
    "def run(input):\n",
    "  polymer, rules = input\n",
    "  elements = Counter(polymer)\n",
    "  pairs = Counter(pairwise(polymer))\n",
    "  \n",
    "  for _ in range(40):\n",
    "    new_pairs = Counter()\n",
    "    for pair, count in pairs.items():\n",
    "      element = rules[pair]\n",
    "      new_pairs[(pair[0], element)] += count\n",
    "      new_pairs[(element, pair[1])] += count\n",
    "      elements[element] += count\n",
    "    pairs = new_pairs\n",
    "\n",
    "  result = elements.most_common()\n",
    "  return result[0][1] - result[-1][1]\n",
    "\n",
    "run(parse(input))"
   ]
  }
 ],
 "metadata": {
  "language_info": {
   "name": "python"
  },
  "orig_nbformat": 4
 },
 "nbformat": 4,
 "nbformat_minor": 2
}
