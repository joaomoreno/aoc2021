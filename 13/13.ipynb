{
 "cells": [
  {
   "cell_type": "markdown",
   "metadata": {},
   "source": [
    "**Input**"
   ]
  },
  {
   "cell_type": "code",
   "execution_count": null,
   "metadata": {},
   "outputs": [],
   "source": [
    "day = 13\n",
    "\n",
    "import pyodide\n",
    "def read(name):\n",
    "  return pyodide.open_url('https://raw.githubusercontent.com/joaomoreno/aoc2021/main/%d/%s' % (day, name)).getvalue()\n",
    "\n",
    "sample = read('sample')\n",
    "input = read('input')"
   ]
  },
  {
   "cell_type": "markdown",
   "metadata": {},
   "source": [
    "**Parsing**"
   ]
  },
  {
   "cell_type": "code",
   "execution_count": null,
   "metadata": {},
   "outputs": [],
   "source": [
    "import re\n",
    "pointsx = re.compile(r'^(\\d+),(\\d+)$')\n",
    "foldsx = re.compile(r'^fold along (\\w)=(\\d+)$')\n",
    "\n",
    "def parse(input):\n",
    "  points = []\n",
    "  folds = []\n",
    "\n",
    "  for line in input.splitlines(False):\n",
    "    if match := pointsx.match(line):\n",
    "      points.append(tuple(map(int, match.groups())))\n",
    "    elif match := foldsx.match(line):\n",
    "      axis, coord = match.groups()\n",
    "      folds.append((axis, int(coord)))\n",
    "  \n",
    "  return points, folds"
   ]
  },
  {
   "cell_type": "markdown",
   "metadata": {},
   "source": [
    "**Part One**"
   ]
  },
  {
   "cell_type": "code",
   "execution_count": 20,
   "metadata": {},
   "outputs": [
    {
     "data": {
      "text/plain": [
       "735"
      ]
     },
     "execution_count": 20,
     "metadata": {},
     "output_type": "execute_result"
    }
   ],
   "source": [
    "def project(fold):\n",
    "  if fold[0] == 'x':\n",
    "    return lambda p: (2 * fold[1] - p[0] if p[0] > fold[1] else p[0], p[1])\n",
    "  else:\n",
    "    return lambda p: (p[0], 2 * fold[1] - p[1] if p[1] > fold[1] else p[1])\n",
    "\n",
    "def run(input):\n",
    "  points, folds = input\n",
    "  fn = project(folds[0])\n",
    "  return len(set(fn(p) for p in points))\n",
    "\n",
    "run(parse(input))"
   ]
  },
  {
   "cell_type": "markdown",
   "metadata": {},
   "source": [
    "**Part Two**"
   ]
  },
  {
   "cell_type": "code",
   "execution_count": null,
   "metadata": {},
   "outputs": [
    {
     "name": "stdout",
     "output_type": "stream",
     "text": [
      "#..#.####.###..####.#..#..##..#..#.####\n",
      "#..#.#....#..#....#.#.#..#..#.#..#....#\n",
      "#..#.###..#..#...#..##...#..#.#..#...#.\n",
      "#..#.#....###...#...#.#..####.#..#..#..\n",
      "#..#.#....#.#..#....#.#..#..#.#..#.#...\n",
      ".##..#....#..#.####.#..#.#..#..##..####\n"
     ]
    }
   ],
   "source": [
    "from functools import reduce\n",
    "\n",
    "def project(fold):\n",
    "  if fold[0] == 'x':\n",
    "    return lambda p: (2 * fold[1] - p[0] if p[0] > fold[1] else p[0], p[1])\n",
    "  else:\n",
    "    return lambda p: (p[0], 2 * fold[1] - p[1] if p[1] > fold[1] else p[1])\n",
    "\n",
    "def run(input):\n",
    "  points, folds = input\n",
    "  fns = list(map(project, folds))\n",
    "  mapped = set(reduce(lambda p, fn : fn(p), fns, point) for point in points)\n",
    "  return '\\n'.join([''.join(['#' if (x, y) in mapped else '.' for x in range(39)]) for y in range(6)])\n",
    "\n",
    "print(run(parse(input)))"
   ]
  }
 ],
 "metadata": {
  "language_info": {
   "name": "python"
  },
  "orig_nbformat": 4
 },
 "nbformat": 4,
 "nbformat_minor": 2
}
