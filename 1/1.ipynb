{
 "cells": [
  {
   "cell_type": "code",
   "execution_count": null,
   "metadata": {},
   "outputs": [],
   "source": [
    "sample = \"\"\"199\n",
    "200\n",
    "208\n",
    "210\n",
    "200\n",
    "207\n",
    "240\n",
    "269\n",
    "260\n",
    "263\"\"\""
   ]
  },
  {
   "cell_type": "code",
   "execution_count": null,
   "metadata": {},
   "outputs": [],
   "source": [
    "import pyodide\n",
    "input = pyodide.open_url('https://raw.githubusercontent.com/joaomoreno/aoc2021/main/1/input').getvalue()"
   ]
  },
  {
   "cell_type": "markdown",
   "metadata": {},
   "source": [
    "**Part One**"
   ]
  },
  {
   "cell_type": "code",
   "execution_count": null,
   "metadata": {},
   "outputs": [
    {
     "name": "stdout",
     "output_type": "stream",
     "text": [
      "1529\n"
     ]
    }
   ],
   "source": [
    "import io\n",
    "\n",
    "prev = None\n",
    "result = 0\n",
    "\n",
    "for line in input.splitlines(False):\n",
    "    value = int(line)\n",
    "\n",
    "    if prev is not None and prev < value:\n",
    "        result += 1\n",
    "    \n",
    "    prev = value\n",
    "\n",
    "print(result)\n"
   ]
  },
  {
   "cell_type": "markdown",
   "metadata": {},
   "source": [
    "**Part Two**"
   ]
  },
  {
   "cell_type": "code",
   "execution_count": null,
   "metadata": {},
   "outputs": [
    {
     "name": "stdout",
     "output_type": "stream",
     "text": [
      "1567\n"
     ]
    }
   ],
   "source": [
    "import io\n",
    "\n",
    "prev = None\n",
    "result = 0\n",
    "\n",
    "data = [int(line) for line in input.splitlines(False)]\n",
    "\n",
    "prev = None\n",
    "result = 0\n",
    "\n",
    "for window in zip(*[data[i:] for i in range(3)]):\n",
    "    value = sum(window)\n",
    "\n",
    "    if prev is not None and prev < value:\n",
    "        result += 1\n",
    "    \n",
    "    prev = value\n",
    "\n",
    "print(result)"
   ]
  }
 ],
 "metadata": {
  "language_info": {
   "name": "python"
  },
  "orig_nbformat": 4
 },
 "nbformat": 4,
 "nbformat_minor": 2
}
