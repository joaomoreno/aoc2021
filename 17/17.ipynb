{
 "cells": [
  {
   "cell_type": "markdown",
   "metadata": {},
   "source": [
    "**Input**"
   ]
  },
  {
   "cell_type": "code",
   "execution_count": null,
   "metadata": {},
   "outputs": [],
   "source": [
    "day = 17\n",
    "\n",
    "import pyodide\n",
    "def read(name):\n",
    "  return pyodide.open_url('https://raw.githubusercontent.com/joaomoreno/aoc2021/main/%d/%s' % (day, name)).getvalue()\n",
    "\n",
    "sample = read('sample')\n",
    "input = read('input')"
   ]
  },
  {
   "cell_type": "markdown",
   "metadata": {},
   "source": [
    "**Parsing**"
   ]
  },
  {
   "cell_type": "code",
   "execution_count": null,
   "metadata": {},
   "outputs": [],
   "source": [
    "import re\n",
    "rx = re.compile(r'target area: x=(\\d+)\\.\\.(\\d+), y=(-?\\d+)\\.\\.(-?\\d+)')\n",
    "\n",
    "def parse(input):\n",
    "  return list(map(int, rx.match(input).groups()))"
   ]
  },
  {
   "cell_type": "markdown",
   "metadata": {},
   "source": [
    "**Part One**"
   ]
  },
  {
   "cell_type": "code",
   "execution_count": null,
   "metadata": {},
   "outputs": [],
   "source": [
    "from itertools import islice\n",
    "\n",
    "def shoot(vx, vy):\n",
    "  x, y = 0, 0\n",
    "\n",
    "  while True:\n",
    "    yield x, y\n",
    "    x += vx\n",
    "    y += vy\n",
    "    vx = 0 if vx == 0 else vx - 1 if vx > 0 else vx + 1\n",
    "    vy -= 1\n",
    "\n",
    "def is_inside(point, rect):\n",
    "  return point[0] >= rect[0] and point[0] <= rect[1] and point[1] >= rect[2] and point[1] <= rect[3]\n",
    "\n",
    "def maximum_height(rect, vx, vy):\n",
    "  maxy = 0\n",
    "  for x, y in shoot(vx, vy):\n",
    "    if is_inside((x, y), rect):\n",
    "      return maxy\n",
    "    elif y < rect[2]:\n",
    "      return None\n",
    "    else:\n",
    "      maxy = max(y, maxy)\n",
    "\n",
    "def all_maximum_heights(rect):\n",
    "  for vx in range(rect[1] + 1):\n",
    "    for vy in range(rect[2], 200):\n",
    "      yield maximum_height(rect, vx, vy)\n",
    "\n",
    "def run(rect):\n",
    "  return max(h for h in all_maximum_heights(rect) if h is not None)\n",
    "\n",
    "run(parse(input))"
   ]
  },
  {
   "cell_type": "markdown",
   "metadata": {},
   "source": [
    "**Part Two**"
   ]
  },
  {
   "cell_type": "code",
   "execution_count": 51,
   "metadata": {},
   "outputs": [
    {
     "data": {
      "text/plain": [
       "1994"
      ]
     },
     "execution_count": 51,
     "metadata": {},
     "output_type": "execute_result"
    }
   ],
   "source": [
    "def run(rect):\n",
    "  return sum(1 for h in all_maximum_heights(rect) if h is not None)\n",
    "\n",
    "run(parse(input))"
   ]
  }
 ],
 "metadata": {
  "language_info": {
   "name": "python"
  },
  "orig_nbformat": 4
 },
 "nbformat": 4,
 "nbformat_minor": 2
}
