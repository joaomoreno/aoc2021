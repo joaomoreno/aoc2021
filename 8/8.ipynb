{
 "cells": [
  {
   "cell_type": "markdown",
   "metadata": {},
   "source": [
    "**Input**"
   ]
  },
  {
   "cell_type": "code",
   "execution_count": null,
   "metadata": {},
   "outputs": [],
   "source": [
    "day = 8\n",
    "\n",
    "import pyodide\n",
    "def read(name):\n",
    "  return pyodide.open_url('https://raw.githubusercontent.com/joaomoreno/aoc2021/main/%d/%s' % (day, name)).getvalue()\n",
    "\n",
    "sample = read('sample')\n",
    "input = read('input')"
   ]
  },
  {
   "cell_type": "markdown",
   "metadata": {},
   "source": [
    "**Parsing**"
   ]
  },
  {
   "cell_type": "code",
   "execution_count": null,
   "metadata": {},
   "outputs": [],
   "source": [
    "import re\n",
    "rx = re.compile(r'(\\w+)')\n",
    "\n",
    "def parse(input):\n",
    "  return ((r[:10], r[10:]) for r in [rx.findall(line) for line in input.splitlines(False)])"
   ]
  },
  {
   "cell_type": "markdown",
   "metadata": {},
   "source": [
    "**Part One**"
   ]
  },
  {
   "cell_type": "code",
   "execution_count": 49,
   "metadata": {},
   "outputs": [
    {
     "data": {
      "text/plain": [
       "310"
      ]
     },
     "execution_count": 49,
     "metadata": {},
     "output_type": "execute_result"
    }
   ],
   "source": [
    "def run(input):\n",
    "  return sum(sum(1 for digit in output if len(digit) not in [5, 6]) for _, output in input)\n",
    "\n",
    "run(parse(input))"
   ]
  },
  {
   "cell_type": "markdown",
   "metadata": {},
   "source": [
    "**Part Two**"
   ]
  },
  {
   "cell_type": "code",
   "execution_count": 50,
   "metadata": {},
   "outputs": [
    {
     "data": {
      "text/plain": [
       "915941"
      ]
     },
     "execution_count": 50,
     "metadata": {},
     "output_type": "execute_result"
    }
   ],
   "source": [
    "from functools import reduce\n",
    "from itertools import permutations\n",
    "\n",
    "original_digits = {\n",
    "  0b1110111: 0,\n",
    "  0b0100100: 1,\n",
    "  0b1011101: 2,\n",
    "  0b1101101: 3,\n",
    "  0b0101110: 4,\n",
    "  0b1101011: 5,\n",
    "  0b1111011: 6,\n",
    "  0b0100101: 7,\n",
    "  0b1111111: 8,\n",
    "  0b1101111: 9,\n",
    "}\n",
    "\n",
    "original_mapping = 'abcdefg'\n",
    "\n",
    "def code(c):\n",
    "  return 1 << (ord(c) - ord('a'))\n",
    "\n",
    "def mapped_code(mapping, c):\n",
    "  return code(original_mapping[mapping.index(c)])\n",
    "\n",
    "def mapped_digit(mapping, digit):\n",
    "  return reduce(lambda a, b: a | b, (mapped_code(mapping, c) for c in digit))\n",
    "\n",
    "def find_mapping(digits):\n",
    "  for mapping in permutations('abcdefg'):\n",
    "    if all(mapped_digit(mapping, digit) in original_digits for digit in digits):\n",
    "      return mapping\n",
    "\n",
    "def solve(entry):\n",
    "  input, output = entry\n",
    "  mapping = find_mapping(sorted(input, key=len))\n",
    "  return int(''.join(str(original_digits[mapped_digit(mapping, digit)]) for digit in output))\n",
    "\n",
    "def run(input):\n",
    "  return sum(solve(entry) for entry in input)\n",
    "\n",
    "run(parse(input))"
   ]
  }
 ],
 "metadata": {
  "language_info": {
   "name": "python"
  },
  "orig_nbformat": 4
 },
 "nbformat": 4,
 "nbformat_minor": 2
}
