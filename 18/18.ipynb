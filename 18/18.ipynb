{
 "cells": [
  {
   "cell_type": "markdown",
   "metadata": {},
   "source": [
    "**Input**"
   ]
  },
  {
   "cell_type": "code",
   "execution_count": null,
   "metadata": {},
   "outputs": [],
   "source": [
    "day = 18\n",
    "\n",
    "import pyodide\n",
    "def read(name):\n",
    "  return pyodide.open_url('https://raw.githubusercontent.com/joaomoreno/aoc2021/main/%d/%s' % (day, name)).getvalue()\n",
    "\n",
    "sample = read('sample')\n",
    "input = read('input')"
   ]
  },
  {
   "cell_type": "markdown",
   "metadata": {},
   "source": [
    "**Parsing**"
   ]
  },
  {
   "cell_type": "code",
   "execution_count": null,
   "metadata": {},
   "outputs": [],
   "source": [
    "import json\n",
    "\n",
    "def parse(input):\n",
    "  return list(map(json.loads, input.splitlines(False)))"
   ]
  },
  {
   "cell_type": "markdown",
   "metadata": {},
   "source": [
    "**Part One**"
   ]
  },
  {
   "cell_type": "code",
   "execution_count": 219,
   "metadata": {},
   "outputs": [
    {
     "data": {
      "text/plain": [
       "4033"
      ]
     },
     "execution_count": 219,
     "metadata": {},
     "output_type": "execute_result"
    }
   ],
   "source": [
    "from functools import reduce\n",
    "\n",
    "def each(e, p=()):\n",
    "  yield (p, e)\n",
    "  if not isinstance(e, int):\n",
    "    yield from each(e[0], p + (0,))\n",
    "    yield from each(e[1], p + (1,))\n",
    "\n",
    "def find_deep_pair(e):\n",
    "  return next((p for (p, ee) in each(e) if not isinstance(ee, int) and len(p) >= 4), None)\n",
    "\n",
    "def find_large_value(e):\n",
    "  return next((p for (p, ee) in each(e) if isinstance(ee, int) and ee >= 10), None)\n",
    "\n",
    "def get(e, p):\n",
    "  return e if len(p) == 0 else get(e[p[0]], p[1:])\n",
    "\n",
    "def set(e, p, v):\n",
    "  if len(p) == 1:\n",
    "    e[p[0]] = v\n",
    "  else:\n",
    "    set(e[p[0]], p[1:], v)\n",
    "\n",
    "def add_to(e, p, v, up, down):\n",
    "  while len(p) > 0 and p[-1] == up:\n",
    "    p = p[:-1]\n",
    "  if len(p) == 0:\n",
    "    return None\n",
    "  p = p[:-1] + (up,)\n",
    "  n = get(e, p)\n",
    "  while not isinstance(n, int):\n",
    "    n = n[down]\n",
    "    p = p + (down,)\n",
    "  set(e, p, n + v)\n",
    "\n",
    "def explode(e, p):\n",
    "  parent = get(e, p[:-1])\n",
    "  l, r = parent[p[-1]]\n",
    "  parent[p[-1]] = 0\n",
    "  add_to(e, p, l, 0, 1)\n",
    "  add_to(e, p, r, 1, 0)\n",
    "\n",
    "def split(e, p):\n",
    "  parent = get(e, p[:-1])\n",
    "  left = parent[p[-1]] // 2\n",
    "  right = parent[p[-1]] - left\n",
    "  parent[p[-1]] = [left, right]\n",
    "\n",
    "def magnitude(e):\n",
    "  return e if isinstance(e, int) else 3 * magnitude(e[0]) + 2 * magnitude(e[1])\n",
    "\n",
    "def add(a, b):\n",
    "  result = [a, b]\n",
    "\n",
    "  while True:\n",
    "    if (p := find_deep_pair(result)) is not None:\n",
    "      explode(result, p)\n",
    "    elif (p := find_large_value(result)) is not None:\n",
    "      split(result, p)\n",
    "    else:\n",
    "      return result\n",
    "\n",
    "def run(input):\n",
    "  return magnitude(reduce(add, input))\n",
    "\n",
    "run(parse(input))"
   ]
  },
  {
   "cell_type": "markdown",
   "metadata": {},
   "source": [
    "**Part Two**"
   ]
  },
  {
   "cell_type": "code",
   "execution_count": 97,
   "metadata": {},
   "outputs": [
    {
     "data": {
      "text/plain": [
       "(1,)"
      ]
     },
     "execution_count": 97,
     "metadata": {},
     "output_type": "execute_result"
    }
   ],
   "source": []
  }
 ],
 "metadata": {
  "language_info": {
   "name": "python"
  },
  "orig_nbformat": 4
 },
 "nbformat": 4,
 "nbformat_minor": 2
}
