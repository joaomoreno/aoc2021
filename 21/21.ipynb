{
 "cells": [
  {
   "cell_type": "markdown",
   "metadata": {},
   "source": [
    "**Input**"
   ]
  },
  {
   "cell_type": "code",
   "execution_count": null,
   "metadata": {},
   "outputs": [],
   "source": [
    "day = 21\n",
    "\n",
    "import pyodide\n",
    "def read(name):\n",
    "  return pyodide.open_url('https://raw.githubusercontent.com/joaomoreno/aoc2021/main/%d/%s' % (day, name)).getvalue()\n",
    "\n",
    "sample = read('sample')\n",
    "input = read('input')"
   ]
  },
  {
   "cell_type": "markdown",
   "metadata": {},
   "source": [
    "**Parsing**"
   ]
  },
  {
   "cell_type": "code",
   "execution_count": null,
   "metadata": {},
   "outputs": [],
   "source": [
    "import re\n",
    "rx = re.compile(r'^Player \\d+ starting position: (\\d+)$')\n",
    "\n",
    "def parse(input):\n",
    "  return [int(rx.match(line).groups()[0]) for line in input.splitlines(False)]"
   ]
  },
  {
   "cell_type": "markdown",
   "metadata": {},
   "source": [
    "**Part One**"
   ]
  },
  {
   "cell_type": "code",
   "execution_count": 4,
   "metadata": {},
   "outputs": [
    {
     "data": {
      "text/plain": [
       "556206"
      ]
     },
     "execution_count": 4,
     "metadata": {},
     "output_type": "execute_result"
    }
   ],
   "source": [
    "from itertools import islice\n",
    "\n",
    "def make_die():\n",
    "  i = 0\n",
    "  while True:\n",
    "    yield i + 1\n",
    "    i = (i + 1) % 100\n",
    "\n",
    "def run(input):\n",
    "  positions = list(map(lambda x : x - 1, input))\n",
    "  scores = [0] * len(positions)\n",
    "  player = 0\n",
    "  die = make_die()\n",
    "  count = 0\n",
    "\n",
    "  while max(scores) < 1000:\n",
    "    positions[player] = (positions[player] + sum(islice(die, 3))) % 10\n",
    "    scores[player] += positions[player] + 1\n",
    "    player = (player + 1) % len(positions)\n",
    "    count += 3\n",
    "  \n",
    "  return min(scores) * count\n",
    "\n",
    "run(parse(input))"
   ]
  },
  {
   "cell_type": "markdown",
   "metadata": {},
   "source": [
    "**Part Two**"
   ]
  },
  {
   "cell_type": "code",
   "execution_count": 6,
   "metadata": {},
   "outputs": [
    {
     "data": {
      "text/plain": [
       "[630797200227453, 460209655405242]"
      ]
     },
     "execution_count": 6,
     "metadata": {},
     "output_type": "execute_result"
    }
   ],
   "source": [
    "from itertools import product\n",
    "from collections import Counter\n",
    "\n",
    "odds = Counter(list(map(sum, product([1,2,3], repeat=3))))\n",
    "\n",
    "def run(input):\n",
    "  scores = Counter([tuple(map(lambda x : (x - 1, 0), input))])\n",
    "  player = 0\n",
    "\n",
    "  while any(s[0][1] < 21 and s[1][1] < 21 for s in scores):\n",
    "    new_scores = Counter()\n",
    "\n",
    "    for score in scores:\n",
    "      if score[0][1] >= 21 or score[1][1] >= 21:\n",
    "        new_scores[score] += scores[score]\n",
    "      else:\n",
    "        for roll in odds:\n",
    "          pos, sco = score[player]\n",
    "          pos = (pos + roll) % 10\n",
    "          sco += pos + 1\n",
    "          res = ((pos, sco), score[1]) if player == 0 else (score[0], (pos, sco))\n",
    "          new_scores[res] += scores[score] * odds[roll]\n",
    "\n",
    "    player = (player + 1) % len(input)\n",
    "    scores = new_scores\n",
    "\n",
    "  return [sum(scores[s] for s in scores if s[i][1] >= 21) for i in range(len(input))]\n",
    "\n",
    "run(parse(input))\n"
   ]
  }
 ],
 "metadata": {
  "language_info": {
   "name": "python"
  },
  "orig_nbformat": 4
 },
 "nbformat": 4,
 "nbformat_minor": 2
}
