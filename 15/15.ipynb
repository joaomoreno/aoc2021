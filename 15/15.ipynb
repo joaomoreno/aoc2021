{
 "cells": [
  {
   "cell_type": "markdown",
   "metadata": {},
   "source": [
    "**Input**"
   ]
  },
  {
   "cell_type": "code",
   "execution_count": null,
   "metadata": {},
   "outputs": [],
   "source": [
    "day = 15\n",
    "\n",
    "import pyodide\n",
    "def read(name):\n",
    "  return pyodide.open_url('https://raw.githubusercontent.com/joaomoreno/aoc2021/main/%d/%s' % (day, name)).getvalue()\n",
    "\n",
    "sample = read('sample')\n",
    "input = read('input')"
   ]
  },
  {
   "cell_type": "markdown",
   "metadata": {},
   "source": [
    "**Parsing**"
   ]
  },
  {
   "cell_type": "code",
   "execution_count": null,
   "metadata": {},
   "outputs": [],
   "source": [
    "def parse(input):\n",
    "  return [[int(c) for c in line] for line in input.splitlines(False)]"
   ]
  },
  {
   "cell_type": "markdown",
   "metadata": {},
   "source": [
    "**Part One**"
   ]
  },
  {
   "cell_type": "code",
   "execution_count": 71,
   "metadata": {},
   "outputs": [
    {
     "data": {
      "text/plain": [
       "602"
      ]
     },
     "execution_count": 71,
     "metadata": {},
     "output_type": "execute_result"
    }
   ],
   "source": [
    "from queue import PriorityQueue\n",
    "\n",
    "def neighbors(x, y, width, height):\n",
    "  if x > 0: yield x - 1, y\n",
    "  if x < width - 1: yield x + 1, y\n",
    "  if y > 0: yield x, y - 1\n",
    "  if y < height - 1: yield x, y + 1\n",
    "\n",
    "def run(cavern):\n",
    "  queue = PriorityQueue()\n",
    "  queue.put((0, (0, 0)))\n",
    "  width, height = len(cavern[0]), len(cavern)\n",
    "  visited = set([(0, 0)])\n",
    "\n",
    "  while True:\n",
    "    risk, (x, y) = queue.get()\n",
    "\n",
    "    if (x, y) == (width - 1, height - 1):\n",
    "      return risk\n",
    "    \n",
    "    for xx, yy in neighbors(x, y, width, height):\n",
    "      if (xx, yy) not in visited:\n",
    "        visited.add((xx, yy))\n",
    "        queue.put((risk + cavern[yy][xx], (xx, yy)))\n",
    "\n",
    "run(parse(input))"
   ]
  },
  {
   "cell_type": "markdown",
   "metadata": {},
   "source": [
    "**Part Two**"
   ]
  },
  {
   "cell_type": "code",
   "execution_count": 72,
   "metadata": {},
   "outputs": [
    {
     "data": {
      "text/plain": [
       "2935"
      ]
     },
     "execution_count": 72,
     "metadata": {},
     "output_type": "execute_result"
    }
   ],
   "source": [
    "def risk_at(cavern, x, y, block_width, block_height):\n",
    "  block_distance = y // block_height + x // block_width\n",
    "  result = cavern[y % block_height][x % block_width] + block_distance\n",
    "  return result if result <= 9 else result - 9\n",
    "\n",
    "def run(cavern):\n",
    "  queue = PriorityQueue()\n",
    "  queue.put((0, (0, 0)))\n",
    "  block_width, block_height = len(cavern[0]), len(cavern)\n",
    "  width, height = block_width * 5, block_height * 5\n",
    "  visited = set([(0, 0)])\n",
    "\n",
    "  while True:\n",
    "    risk, (x, y) = queue.get()\n",
    "\n",
    "    if (x, y) == (width - 1, height - 1):\n",
    "      return risk\n",
    "    \n",
    "    for xx, yy in neighbors(x, y, width, height):\n",
    "      if (xx, yy) not in visited:\n",
    "        visited.add((xx, yy))\n",
    "        queue.put((risk + risk_at(cavern, xx, yy, block_width, block_height), (xx, yy)))\n",
    "\n",
    "run(parse(input))"
   ]
  }
 ],
 "metadata": {
  "language_info": {
   "name": "python"
  },
  "orig_nbformat": 4
 },
 "nbformat": 4,
 "nbformat_minor": 2
}
