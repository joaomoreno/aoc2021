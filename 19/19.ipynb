{
 "cells": [
  {
   "cell_type": "markdown",
   "metadata": {},
   "source": [
    "**Input**"
   ]
  },
  {
   "cell_type": "code",
   "execution_count": null,
   "metadata": {},
   "outputs": [],
   "source": [
    "day = 19\n",
    "\n",
    "import pyodide\n",
    "def read(name):\n",
    "  return pyodide.open_url('https://raw.githubusercontent.com/joaomoreno/aoc2021/main/%d/%s' % (day, name)).getvalue()\n",
    "\n",
    "sample = read('sample')\n",
    "input = read('input')"
   ]
  },
  {
   "cell_type": "markdown",
   "metadata": {},
   "source": [
    "**Parsing**"
   ]
  },
  {
   "cell_type": "code",
   "execution_count": null,
   "metadata": {},
   "outputs": [],
   "source": [
    "import numpy as np\n",
    "import re\n",
    "rx = re.compile(r'^(-?\\d+),(-?\\d+),(-?\\d+)$')\n",
    "\n",
    "def parse(input):\n",
    "  result = []\n",
    "  scanner = []\n",
    "\n",
    "  for line in input.splitlines(False):\n",
    "    if line == '':\n",
    "      result.append(np.array(scanner, np.int32))\n",
    "      scanner = []\n",
    "    elif match := rx.match(line):\n",
    "      scanner.append(list(map(int, match.groups())))\n",
    "  \n",
    "  result.append(np.array(scanner, np.int32))\n",
    "  return result"
   ]
  },
  {
   "cell_type": "markdown",
   "metadata": {},
   "source": [
    "**Part One**"
   ]
  },
  {
   "cell_type": "code",
   "execution_count": 8,
   "metadata": {},
   "outputs": [
    {
     "data": {
      "text/plain": [
       "79"
      ]
     },
     "execution_count": 8,
     "metadata": {},
     "output_type": "execute_result"
    }
   ],
   "source": [
    "from itertools import chain\n",
    "\n",
    "def rotx(a): return np.array([[1, 0, 0], [0, np.cos(a), -np.sin(a)], [0, np.sin(a), np.cos(a)]], np.int32)\n",
    "def roty(a): return np.array([[np.cos(a), 0, np.sin(a)], [0, 1, 0], [-np.sin(a), 0, np.cos(a)]], np.int32)\n",
    "def rotz(a): return np.array([[np.cos(a), -np.sin(a), 0], [np.sin(a), np.cos(a), 0], [0, 0, 1]], np.int32)\n",
    "def radian(step): return step * np.pi / 2\n",
    "\n",
    "def spin(rot):\n",
    "  for i in range(4):\n",
    "    yield rot(radian(i))\n",
    "\n",
    "def all_rotations():\n",
    "  for a in chain(spin(roty), (rotx(radian(1)), rotx(radian(3)))):\n",
    "    for b in spin(rotz):\n",
    "      yield a @ b\n",
    "\n",
    "rotations = list(all_rotations())\n",
    "\n",
    "def find_transform(known, points):\n",
    "  for r in rotations:\n",
    "    rotated_points = points @ r.T\n",
    "    for p in rotated_points[12:]:\n",
    "      for root in known:\n",
    "        v = p - root\n",
    "        count = 0\n",
    "\n",
    "        for q in rotated_points:\n",
    "          if tuple(q - v) in known:\n",
    "            count += 1\n",
    "          if count >= 12:\n",
    "            return (r, v)\n",
    "\n",
    "def run(input):\n",
    "  beacons = set(tuple(p) for p in input[0])\n",
    "  todo = list(range(1, len(input)))\n",
    "  \n",
    "  while len(todo) > 0:\n",
    "    for i in range(len(todo)):\n",
    "      points = input[todo[i]]\n",
    "      if transform := find_transform(beacons, points):\n",
    "        r, v = transform\n",
    "        beacons |= set(tuple(p - v) for p in points @ r.T)\n",
    "        todo.pop(i)\n",
    "        break\n",
    "  \n",
    "  return len(beacons)\n",
    "\n",
    "run(parse(sample))"
   ]
  },
  {
   "cell_type": "markdown",
   "metadata": {},
   "source": [
    "**Part Two**"
   ]
  },
  {
   "cell_type": "code",
   "execution_count": 9,
   "metadata": {},
   "outputs": [
    {
     "data": {
      "text/plain": [
       "3621"
      ]
     },
     "execution_count": 9,
     "metadata": {},
     "output_type": "execute_result"
    }
   ],
   "source": [
    "from itertools import combinations\n",
    "\n",
    "def dist(a, b):\n",
    "  return np.sum(np.abs(a - b))\n",
    "\n",
    "def run(input):\n",
    "  beacons = set(tuple(p) for p in input[0])\n",
    "  todo = list(range(1, len(input)))\n",
    "  scanners = []\n",
    "  \n",
    "  while len(todo) > 0:\n",
    "    for i in range(len(todo)):\n",
    "      points = input[todo[i]]\n",
    "      if transform := find_transform(beacons, points):\n",
    "        r, v = transform\n",
    "        beacons |= set(tuple(p - v) for p in points @ r.T)\n",
    "        scanners.append(-v)\n",
    "        todo.pop(i)\n",
    "        break\n",
    "  \n",
    "  return max(dist(a, b) for a, b in combinations(scanners, 2))\n",
    "\n",
    "run(parse(sample))"
   ]
  }
 ],
 "metadata": {
  "language_info": {
   "name": "python"
  },
  "orig_nbformat": 4
 },
 "nbformat": 4,
 "nbformat_minor": 2
}
