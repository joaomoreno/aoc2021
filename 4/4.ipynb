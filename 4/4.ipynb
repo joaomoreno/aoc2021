{
 "cells": [
  {
   "cell_type": "markdown",
   "metadata": {},
   "source": [
    "**Input**"
   ]
  },
  {
   "cell_type": "code",
   "execution_count": null,
   "metadata": {},
   "outputs": [],
   "source": [
    "day = 4\n",
    "\n",
    "import pyodide\n",
    "def read(name):\n",
    "  return pyodide.open_url('https://raw.githubusercontent.com/joaomoreno/aoc2021/main/%d/%s' % (day, name)).getvalue()\n",
    "\n",
    "sample = read('sample')\n",
    "input = read('input')"
   ]
  },
  {
   "cell_type": "markdown",
   "metadata": {},
   "source": [
    "**Parsing**"
   ]
  },
  {
   "cell_type": "code",
   "execution_count": null,
   "metadata": {},
   "outputs": [],
   "source": [
    "import numpy as np\n",
    "\n",
    "def parse(input):\n",
    "  input = input.splitlines(False)\n",
    "  raw_draw, _, *input = input\n",
    "  draw = list(map(int, raw_draw.split(',')))\n",
    "  boards = [np.array([np.fromstring(input[i + row], dtype=int, sep=' ') for row in range(5)]) for i in range(0, len(input), 6)]\n",
    "  return (draw, boards)"
   ]
  },
  {
   "cell_type": "markdown",
   "metadata": {},
   "source": [
    "**Model**"
   ]
  },
  {
   "cell_type": "code",
   "execution_count": null,
   "metadata": {},
   "outputs": [],
   "source": [
    "class Board:\n",
    "  def __init__(self, board):\n",
    "    self.board = board\n",
    "    self.drawn = np.zeros((5,5), dtype=bool)\n",
    "  \n",
    "  def draw(self, num):\n",
    "    self.drawn |= self.board == num\n",
    "  \n",
    "  def won(self):\n",
    "    return np.any(np.all(self.drawn, axis=0)) or np.any(np.all(self.drawn, axis=1))\n",
    "  \n",
    "  def score(self):\n",
    "    return np.sum(self.board, where=~self.drawn)"
   ]
  },
  {
   "cell_type": "markdown",
   "metadata": {},
   "source": [
    "**Part One**"
   ]
  },
  {
   "cell_type": "code",
   "execution_count": 142,
   "metadata": {},
   "outputs": [
    {
     "data": {
      "text/plain": [
       "58838"
      ]
     },
     "execution_count": 142,
     "metadata": {},
     "output_type": "execute_result"
    }
   ],
   "source": [
    "def run(input):\n",
    "  draw, boards = input\n",
    "  boards = list(map(Board, boards))\n",
    "  \n",
    "  for num in draw:\n",
    "    for board in boards:\n",
    "      board.draw(num)\n",
    "\n",
    "      if board.won():\n",
    "        return board.score() * num\n",
    "\n",
    "run(parse(input))"
   ]
  },
  {
   "cell_type": "markdown",
   "metadata": {},
   "source": [
    "**Part Two**"
   ]
  },
  {
   "cell_type": "code",
   "execution_count": 143,
   "metadata": {},
   "outputs": [
    {
     "data": {
      "text/plain": [
       "6256"
      ]
     },
     "execution_count": 143,
     "metadata": {},
     "output_type": "execute_result"
    }
   ],
   "source": [
    "def run(input):\n",
    "  draw, boards = input\n",
    "  boards = list(map(Board, boards))\n",
    "  running = list(boards)\n",
    "  count = len(boards)\n",
    "  \n",
    "  for num in draw:\n",
    "    for board in running:\n",
    "      board.draw(num)\n",
    "\n",
    "      if board.won():\n",
    "        boards.remove(board)\n",
    "\n",
    "        if len(boards) == 0:\n",
    "          return board.score() * num\n",
    "    \n",
    "    running = list(boards)\n",
    "\n",
    "run(parse(input))"
   ]
  }
 ],
 "metadata": {
  "language_info": {
   "name": "python"
  },
  "orig_nbformat": 4
 },
 "nbformat": 4,
 "nbformat_minor": 2
}
