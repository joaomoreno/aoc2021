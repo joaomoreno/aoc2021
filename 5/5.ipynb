{
 "cells": [
  {
   "cell_type": "markdown",
   "metadata": {},
   "source": [
    "**Input**"
   ]
  },
  {
   "cell_type": "code",
   "execution_count": null,
   "metadata": {},
   "outputs": [],
   "source": [
    "day = 5\n",
    "\n",
    "import pyodide\n",
    "def read(name):\n",
    "  return pyodide.open_url('https://raw.githubusercontent.com/joaomoreno/aoc2021/main/%d/%s' % (day, name)).getvalue()\n",
    "\n",
    "sample = read('sample')\n",
    "input = read('input')"
   ]
  },
  {
   "cell_type": "markdown",
   "metadata": {},
   "source": [
    "**Parsing**"
   ]
  },
  {
   "cell_type": "code",
   "execution_count": null,
   "metadata": {},
   "outputs": [],
   "source": [
    "import re\n",
    "rx = re.compile(r'^(\\d+),(\\d+) -> (\\d+),(\\d+)$')\n",
    "\n",
    "def parse(input):\n",
    "  return [tuple(map(int, rx.match(line).groups())) for line in input.splitlines(False)]"
   ]
  },
  {
   "cell_type": "markdown",
   "metadata": {},
   "source": [
    "**First Challenge**"
   ]
  },
  {
   "cell_type": "code",
   "execution_count": 88,
   "metadata": {},
   "outputs": [
    {
     "data": {
      "text/plain": [
       "5373"
      ]
     },
     "execution_count": 88,
     "metadata": {},
     "output_type": "execute_result"
    }
   ],
   "source": [
    "def positions(x1, y1, x2, y2):\n",
    "  if x2 < x1 or y2 < y1:\n",
    "    x1, y1, x2, y2 = x2, y2, x1, y1\n",
    "  \n",
    "  for x in range(x1, x2 + 1):\n",
    "    for y in range(y1, y2 + 1):\n",
    "      yield x, y\n",
    "\n",
    "def run(input):\n",
    "  points = dict()\n",
    "\n",
    "  for x1, y1, x2, y2 in input:\n",
    "    if x1 == x2 or y1 == y2:\n",
    "      for x, y in positions(x1, y1, x2, y2):\n",
    "        points[(x,y)] = points[(x,y)] + 1 if (x,y) in points else 1\n",
    "\n",
    "  return len([_ for _, count in points.items() if count > 1])\n",
    "\n",
    "run(parse(input))"
   ]
  },
  {
   "cell_type": "markdown",
   "metadata": {},
   "source": [
    "**Second Challenge**"
   ]
  },
  {
   "cell_type": "code",
   "execution_count": 130,
   "metadata": {},
   "outputs": [
    {
     "data": {
      "text/plain": [
       "21514"
      ]
     },
     "execution_count": 130,
     "metadata": {},
     "output_type": "execute_result"
    }
   ],
   "source": [
    "from itertools import repeat\n",
    "\n",
    "def positions(x1, y1, x2, y2):\n",
    "  steps = max(abs(x2 - x1), abs(y2 - y1)) + 1\n",
    "  xstep = 1 if x1 < x2 else -1\n",
    "  ystep = 1 if y1 < y2 else -1\n",
    "  xrange = repeat(x1, steps) if x1 == x2 else range(x1, x2 + xstep, xstep)\n",
    "  yrange = repeat(y1, steps) if y1 == y2 else range(y1, y2 + ystep, ystep)\n",
    "\n",
    "  for x, y in zip(xrange, yrange):\n",
    "    yield x, y\n",
    "\n",
    "def run(input):\n",
    "  points = dict()\n",
    "\n",
    "  for x1, y1, x2, y2 in input:\n",
    "    for x, y in positions(x1, y1, x2, y2):\n",
    "      points[(x,y)] = points[(x,y)] + 1 if (x,y) in points else 1\n",
    "\n",
    "  return len([_ for _, count in points.items() if count > 1])\n",
    "\n",
    "run(parse(input))"
   ]
  }
 ],
 "metadata": {
  "language_info": {
   "name": "python"
  },
  "orig_nbformat": 4
 },
 "nbformat": 4,
 "nbformat_minor": 2
}
