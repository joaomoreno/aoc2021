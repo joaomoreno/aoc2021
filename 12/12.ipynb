{
 "cells": [
  {
   "cell_type": "markdown",
   "metadata": {},
   "source": [
    "**Input**"
   ]
  },
  {
   "cell_type": "code",
   "execution_count": null,
   "metadata": {},
   "outputs": [],
   "source": [
    "day = 12\n",
    "\n",
    "import pyodide\n",
    "def read(name):\n",
    "  return pyodide.open_url('https://raw.githubusercontent.com/joaomoreno/aoc2021/main/%d/%s' % (day, name)).getvalue()\n",
    "\n",
    "sample = read('sample')\n",
    "sample2 = read('sample2')\n",
    "sample3 = read('sample3')\n",
    "input = read('input')"
   ]
  },
  {
   "cell_type": "markdown",
   "metadata": {},
   "source": [
    "**Parsing**"
   ]
  },
  {
   "cell_type": "code",
   "execution_count": null,
   "metadata": {},
   "outputs": [],
   "source": [
    "import re\n",
    "rx = re.compile(r'^(\\w+)-(\\w+)$')\n",
    "\n",
    "def parse(input):\n",
    "  links = dict()\n",
    "\n",
    "  for line in input.splitlines(False):\n",
    "    a, b = rx.match(line).groups()\n",
    "    if a not in links: links[a] = []\n",
    "    if b not in links: links[b] = []\n",
    "    links[a].append(b)\n",
    "    links[b].append(a)\n",
    "  \n",
    "  return links"
   ]
  },
  {
   "cell_type": "markdown",
   "metadata": {},
   "source": [
    "**Part One**"
   ]
  },
  {
   "cell_type": "code",
   "execution_count": 52,
   "metadata": {},
   "outputs": [
    {
     "data": {
      "text/plain": [
       "4773"
      ]
     },
     "execution_count": 52,
     "metadata": {},
     "output_type": "execute_result"
    }
   ],
   "source": [
    "def visit(links, cave, path):\n",
    "  if cave == 'end':\n",
    "    return 1\n",
    "  \n",
    "  return sum(visit(links, other, path + [other]) for other in links[cave] if other[0].isupper() or other not in path)\n",
    "\n",
    "def run(links):\n",
    "  return visit(links, 'start', ['start'])\n",
    "\n",
    "run(parse(input))"
   ]
  },
  {
   "cell_type": "markdown",
   "metadata": {},
   "source": [
    "**Part Two**"
   ]
  },
  {
   "cell_type": "code",
   "execution_count": 53,
   "metadata": {},
   "outputs": [
    {
     "data": {
      "text/plain": [
       "116985"
      ]
     },
     "execution_count": 53,
     "metadata": {},
     "output_type": "execute_result"
    }
   ],
   "source": [
    "def visit(links, cave, path, double):\n",
    "  if cave == 'end':\n",
    "    return 1\n",
    "  \n",
    "  return sum(visit(links, other, path + [other], double or (other[0].islower() and other in path)) for other in links[cave] if other != 'start' and (other[0].isupper() or other not in path or not double))\n",
    "\n",
    "def run(links):\n",
    "  return visit(links, 'start', ['start'], False)\n",
    "\n",
    "run(parse(input))"
   ]
  }
 ],
 "metadata": {
  "language_info": {
   "name": "python"
  },
  "orig_nbformat": 4
 },
 "nbformat": 4,
 "nbformat_minor": 2
}
